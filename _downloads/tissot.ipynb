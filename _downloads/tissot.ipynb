{
  "nbformat": 4,
  "nbformat_minor": 0,
  "cells": [
    {
      "cell_type": "code",
      "outputs": [],
      "execution_count": null,
      "metadata": {
        "collapsed": false
      },
      "source": [
        "%matplotlib inline"
      ]
    },
    {
      "cell_type": "markdown",
      "source": [
        "\nTissot's Indicatrix\n-------------------\n\nVisualize Tissot's indicatrix on a map.\n\n"
      ],
      "metadata": {}
    },
    {
      "cell_type": "code",
      "outputs": [],
      "execution_count": null,
      "metadata": {
        "collapsed": false
      },
      "source": [
        "import matplotlib.pyplot as plt\n\nimport cartopy.crs as ccrs\n\n\ndef main():\n    fig = plt.figure(figsize=(10, 5))\n    ax = fig.add_subplot(1, 1, 1, projection=ccrs.PlateCarree())\n\n    # make the map global rather than have it zoom in to\n    # the extents of any plotted data\n    ax.set_global()\n\n    ax.stock_img()\n    ax.coastlines()\n\n    ax.tissot(facecolor='orange', alpha=0.4)\n\n    plt.show()\n\n\nif __name__ == '__main__':\n    main()"
      ]
    }
  ],
  "metadata": {
    "kernelspec": {
      "language": "python",
      "display_name": "Python 3",
      "name": "python3"
    },
    "language_info": {
      "nbconvert_exporter": "python",
      "version": "3.5.3",
      "file_extension": ".py",
      "pygments_lexer": "ipython3",
      "name": "python",
      "codemirror_mode": {
        "version": 3,
        "name": "ipython"
      },
      "mimetype": "text/x-python"
    }
  }
}