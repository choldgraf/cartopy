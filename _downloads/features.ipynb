{
  "nbformat": 4,
  "nbformat_minor": 0,
  "cells": [
    {
      "cell_type": "code",
      "outputs": [],
      "execution_count": null,
      "metadata": {
        "collapsed": false
      },
      "source": [
        "%matplotlib inline"
      ]
    },
    {
      "cell_type": "markdown",
      "source": [
        "\nFeatures\n--------\n\n\n"
      ],
      "metadata": {}
    },
    {
      "cell_type": "code",
      "outputs": [],
      "execution_count": null,
      "metadata": {
        "collapsed": false
      },
      "source": [
        "import cartopy\nimport matplotlib.pyplot as plt\n\n\ndef main():\n    fig = plt.figure()\n    ax = fig.add_subplot(1, 1, 1, projection=cartopy.crs.PlateCarree())\n\n    ax.add_feature(cartopy.feature.LAND)\n    ax.add_feature(cartopy.feature.OCEAN)\n    ax.add_feature(cartopy.feature.COASTLINE)\n    ax.add_feature(cartopy.feature.BORDERS, linestyle=':')\n    ax.add_feature(cartopy.feature.LAKES, alpha=0.5)\n    ax.add_feature(cartopy.feature.RIVERS)\n\n    ax.set_extent([-20, 60, -40, 40])\n\n    plt.show()\n\n\nif __name__ == '__main__':\n    main()"
      ]
    }
  ],
  "metadata": {
    "kernelspec": {
      "language": "python",
      "display_name": "Python 3",
      "name": "python3"
    },
    "language_info": {
      "nbconvert_exporter": "python",
      "version": "3.5.3",
      "file_extension": ".py",
      "pygments_lexer": "ipython3",
      "name": "python",
      "codemirror_mode": {
        "version": 3,
        "name": "ipython"
      },
      "mimetype": "text/x-python"
    }
  }
}