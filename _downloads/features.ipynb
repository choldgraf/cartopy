{
  "cells": [
    {
      "execution_count": null,
      "metadata": {
        "collapsed": false
      },
      "outputs": [],
      "cell_type": "code",
      "source": [
        "%matplotlib inline"
      ]
    },
    {
      "metadata": {},
      "source": [
        "\nFeatures\n--------\n\n\n"
      ],
      "cell_type": "markdown"
    },
    {
      "execution_count": null,
      "metadata": {
        "collapsed": false
      },
      "outputs": [],
      "cell_type": "code",
      "source": [
        "import cartopy\nimport matplotlib.pyplot as plt\n\n\ndef main():\n    fig = plt.figure()\n    ax = fig.add_subplot(1, 1, 1, projection=cartopy.crs.PlateCarree())\n\n    ax.add_feature(cartopy.feature.LAND)\n    ax.add_feature(cartopy.feature.OCEAN)\n    ax.add_feature(cartopy.feature.COASTLINE)\n    ax.add_feature(cartopy.feature.BORDERS, linestyle=':')\n    ax.add_feature(cartopy.feature.LAKES, alpha=0.5)\n    ax.add_feature(cartopy.feature.RIVERS)\n\n    ax.set_extent([-20, 60, -40, 40])\n\n    plt.show()\n\n\nif __name__ == '__main__':\n    main()"
      ]
    }
  ],
  "nbformat_minor": 0,
  "nbformat": 4,
  "metadata": {
    "kernelspec": {
      "language": "python",
      "display_name": "Python 3",
      "name": "python3"
    },
    "language_info": {
      "pygments_lexer": "ipython3",
      "version": "3.5.3",
      "name": "python",
      "nbconvert_exporter": "python",
      "mimetype": "text/x-python",
      "file_extension": ".py",
      "codemirror_mode": {
        "version": 3,
        "name": "ipython"
      }
    }
  }
}