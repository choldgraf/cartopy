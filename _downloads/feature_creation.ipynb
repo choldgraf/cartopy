{
  "cells": [
    {
      "execution_count": null,
      "metadata": {
        "collapsed": false
      },
      "outputs": [],
      "cell_type": "code",
      "source": [
        "%matplotlib inline"
      ]
    },
    {
      "metadata": {},
      "source": [
        "\nFeature Creation\n----------------\n\n\n"
      ],
      "cell_type": "markdown"
    },
    {
      "execution_count": null,
      "metadata": {
        "collapsed": false
      },
      "outputs": [],
      "cell_type": "code",
      "source": [
        "import matplotlib.pyplot as plt\nimport cartopy.crs as ccrs\nimport cartopy.feature as cfeature\nfrom matplotlib.offsetbox import AnchoredText\n\n\ndef main():\n    fig = plt.figure()\n    ax = fig.add_subplot(1, 1, 1, projection=ccrs.PlateCarree())\n    ax.set_extent([80, 170, -45, 30])\n\n    # Put a background image on for nice sea rendering.\n    ax.stock_img()\n\n    # Create a feature for States/Admin 1 regions at 1:50m from Natural Earth\n    states_provinces = cfeature.NaturalEarthFeature(\n        category='cultural',\n        name='admin_1_states_provinces_lines',\n        scale='50m',\n        facecolor='none')\n\n    SOURCE = 'Natural Earth'\n    LICENSE = 'public domain'\n\n    ax.add_feature(cfeature.LAND)\n    ax.add_feature(cfeature.COASTLINE)\n    ax.add_feature(states_provinces, edgecolor='gray')\n\n    # Add a text annotation for the license information to the\n    # the bottom right corner.\n    text = AnchoredText(r'$\\mathcircled{{c}}$ {}; license: {}'\n                        ''.format(SOURCE, LICENSE),\n                        loc=4, prop={'size': 12}, frameon=True)\n    ax.add_artist(text)\n\n    plt.show()\n\n\nif __name__ == '__main__':\n    main()"
      ]
    }
  ],
  "nbformat_minor": 0,
  "nbformat": 4,
  "metadata": {
    "kernelspec": {
      "language": "python",
      "display_name": "Python 3",
      "name": "python3"
    },
    "language_info": {
      "pygments_lexer": "ipython3",
      "version": "3.5.3",
      "name": "python",
      "nbconvert_exporter": "python",
      "mimetype": "text/x-python",
      "file_extension": ".py",
      "codemirror_mode": {
        "version": 3,
        "name": "ipython"
      }
    }
  }
}