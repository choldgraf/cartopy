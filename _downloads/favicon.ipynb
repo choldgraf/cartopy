{
  "cells": [
    {
      "execution_count": null,
      "metadata": {
        "collapsed": false
      },
      "outputs": [],
      "cell_type": "code",
      "source": [
        "%matplotlib inline"
      ]
    },
    {
      "metadata": {},
      "source": [
        "\nFavicon\n-------\n\n\n"
      ],
      "cell_type": "markdown"
    },
    {
      "execution_count": null,
      "metadata": {
        "collapsed": false
      },
      "outputs": [],
      "cell_type": "code",
      "source": [
        "import cartopy.crs as ccrs\nimport matplotlib.pyplot as plt\nimport matplotlib.textpath\nimport matplotlib.patches\nfrom matplotlib.font_manager import FontProperties\nimport numpy as np\n\n\ndef main():\n    fig = plt.figure(figsize=[8, 8])\n    ax = fig.add_subplot(1, 1, 1, projection=ccrs.SouthPolarStereo())\n\n    ax.coastlines()\n    ax.gridlines()\n\n    im = ax.stock_img()\n\n    def on_draw(event=None):\n        \"\"\"\n        Hooks into matplotlib's event mechanism to define the clip path of the\n        background image.\n\n        \"\"\"\n        # Clip the image to the current background boundary.\n        im.set_clip_path(ax.background_patch.get_path(),\n                         transform=ax.background_patch.get_transform())\n\n    # Register the on_draw method and call it once now.\n    fig.canvas.mpl_connect('draw_event', on_draw)\n    on_draw()\n\n    # Generate a matplotlib path representing the character \"C\".\n    fp = FontProperties(family='Bitstream Vera Sans', weight='bold')\n    logo_path = matplotlib.textpath.TextPath((-4.5e7, -3.7e7),\n                                             'C', size=1, prop=fp)\n\n    # Scale the letter up to an appropriate X and Y scale.\n    logo_path._vertices *= np.array([103250000, 103250000])\n\n    # Add the path as a patch, drawing black outlines around the text.\n    patch = matplotlib.patches.PathPatch(logo_path, facecolor='white',\n                                         edgecolor='black', linewidth=10,\n                                         transform=ccrs.SouthPolarStereo())\n    ax.add_patch(patch)\n    plt.show()\n\n\nif __name__ == '__main__':\n    main()"
      ]
    }
  ],
  "nbformat_minor": 0,
  "nbformat": 4,
  "metadata": {
    "kernelspec": {
      "language": "python",
      "display_name": "Python 3",
      "name": "python3"
    },
    "language_info": {
      "pygments_lexer": "ipython3",
      "version": "3.5.3",
      "name": "python",
      "nbconvert_exporter": "python",
      "mimetype": "text/x-python",
      "file_extension": ".py",
      "codemirror_mode": {
        "version": 3,
        "name": "ipython"
      }
    }
  }
}