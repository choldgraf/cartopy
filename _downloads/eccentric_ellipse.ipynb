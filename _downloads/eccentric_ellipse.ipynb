{
  "nbformat": 4,
  "nbformat_minor": 0,
  "cells": [
    {
      "cell_type": "code",
      "outputs": [],
      "execution_count": null,
      "metadata": {
        "collapsed": false
      },
      "source": [
        "%matplotlib inline"
      ]
    },
    {
      "cell_type": "markdown",
      "source": [
        "\nDisplaying data on an eccentric ellipse\n---------------------------------------\n\nThis example demonstrates plotting data on an eccentric ellipse. The data\nplotted is a topography map of the asteroid Vesta. The map is actually an\nimage, which is defined on an equirectangluar projection relative to an\nellipse with a semi-major axis of 285 km and a semi-minor axis of 229 km.\nThe image is reprojected on-the-fly onto a geostationary projection with\nmatching eccentricity.\n\n\n"
      ],
      "metadata": {}
    },
    {
      "cell_type": "code",
      "outputs": [],
      "execution_count": null,
      "metadata": {
        "collapsed": false
      },
      "source": [
        "try:\n    from urllib2 import urlopen\nexcept ImportError:\n    from urllib.request import urlopen\nfrom io import BytesIO\n\nimport cartopy.crs as ccrs\nimport matplotlib.pyplot as plt\nimport numpy as np\nfrom PIL import Image\n\n\ndef vesta_image():\n    \"\"\"\n    Return an image of Vesta's topography.\n\n    Image credit: NASA/JPL-Caltech/UCLA/MPS/DLR/IDA/PSI\n\n    Returns\n    -------\n    img : numpy array\n        The pixels of the image in a numpy array.\n    img_proj : cartopy CRS\n        The rectangular coordinate system of the image.\n    img_extent : tuple of floats\n        The extent of the image ``(x0, y0, x1, y1)`` referenced in\n        the ``img_proj`` coordinate system.\n\n    \"\"\"\n    url = 'https://www.nasa.gov/sites/default/files/pia17037.jpg'\n    img_handle = BytesIO(urlopen(url).read())\n    raw_image = Image.open(img_handle)\n    # The image is extremely high-resolution, which takes a long time to\n    # plot. Sub-sampling reduces the time taken to plot while not\n    # significantly altering the integrity of the result.\n    smaller_image = raw_image.resize([raw_image.size[0] // 10,\n                                      raw_image.size[1] // 10])\n    img = np.asarray(smaller_image)\n    # We define the semimajor and semiminor axes, but must also tell the\n    # globe not to use the WGS84 ellipse, which is its default behaviour.\n    img_globe = ccrs.Globe(semimajor_axis=285000., semiminor_axis=229000.,\n                           ellipse=None)\n    img_proj = ccrs.PlateCarree(globe=img_globe)\n    img_extent = (-895353.906273091, 895353.906273091,\n                  447676.9531365455, -447676.9531365455)\n    return img, img_globe, img_proj, img_extent\n\n\ndef main():\n    img, globe, crs, extent = vesta_image()\n    projection = ccrs.Geostationary(globe=globe)\n\n    fig = plt.figure()\n    ax = fig.add_subplot(1, 1, 1, projection=projection)\n    ax.imshow(img, transform=crs, extent=extent)\n    fig.text(.075, .012, \"Image credit: NASA/JPL-Caltech/UCLA/MPS/DLR/IDA/PSI\",\n             bbox={'facecolor': 'w', 'edgecolor': 'k'})\n    plt.show()\n\n\nif __name__ == '__main__':\n    main()"
      ]
    }
  ],
  "metadata": {
    "kernelspec": {
      "language": "python",
      "display_name": "Python 3",
      "name": "python3"
    },
    "language_info": {
      "nbconvert_exporter": "python",
      "version": "3.5.3",
      "file_extension": ".py",
      "pygments_lexer": "ipython3",
      "name": "python",
      "codemirror_mode": {
        "version": 3,
        "name": "ipython"
      },
      "mimetype": "text/x-python"
    }
  }
}