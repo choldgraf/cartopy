{
  "cells": [
    {
      "execution_count": null,
      "metadata": {
        "collapsed": false
      },
      "outputs": [],
      "cell_type": "code",
      "source": [
        "%matplotlib inline"
      ]
    },
    {
      "metadata": {},
      "source": [
        "\nHurricane Katrina\n-----------------\n\n\n"
      ],
      "cell_type": "markdown"
    },
    {
      "execution_count": null,
      "metadata": {
        "collapsed": false
      },
      "outputs": [],
      "cell_type": "code",
      "source": [
        "import matplotlib.patches as mpatches\nimport matplotlib.pyplot as plt\nimport shapely.geometry as sgeom\n\nimport cartopy.crs as ccrs\nimport cartopy.io.shapereader as shpreader\n\n\ndef sample_data():\n    \"\"\"\n    Returns a list of latitudes and a list of longitudes (lons, lats)\n    for Hurricane Katrina (2005).\n\n    The data was originally sourced from the HURDAT2 dataset from AOML/NOAA:\n    http://www.aoml.noaa.gov/hrd/hurdat/newhurdat-all.html on 14th Dec 2012.\n\n    \"\"\"\n    lons = [-75.1, -75.7, -76.2, -76.5, -76.9, -77.7, -78.4, -79.0,\n            -79.6, -80.1, -80.3, -81.3, -82.0, -82.6, -83.3, -84.0,\n            -84.7, -85.3, -85.9, -86.7, -87.7, -88.6, -89.2, -89.6,\n            -89.6, -89.6, -89.6, -89.6, -89.1, -88.6, -88.0, -87.0,\n            -85.3, -82.9]\n\n    lats = [23.1, 23.4, 23.8, 24.5, 25.4, 26.0, 26.1, 26.2, 26.2, 26.0,\n            25.9, 25.4, 25.1, 24.9, 24.6, 24.4, 24.4, 24.5, 24.8, 25.2,\n            25.7, 26.3, 27.2, 28.2, 29.3, 29.5, 30.2, 31.1, 32.6, 34.1,\n            35.6, 37.0, 38.6, 40.1]\n\n    return lons, lats\n\n\ndef main():\n    fig = plt.figure()\n    ax = fig.add_axes([0, 0, 1, 1], projection=ccrs.LambertConformal())\n\n    ax.set_extent([-125, -66.5, 20, 50], ccrs.Geodetic())\n\n    shapename = 'admin_1_states_provinces_lakes_shp'\n    states_shp = shpreader.natural_earth(resolution='110m',\n                                         category='cultural', name=shapename)\n\n    lons, lats = sample_data()\n\n    # to get the effect of having just the states without a map \"background\"\n    # turn off the outline and background patches\n    ax.background_patch.set_visible(False)\n    ax.outline_patch.set_visible(False)\n\n    ax.set_title('US States which intersect the track of '\n                 'Hurricane Katrina (2005)')\n\n    # turn the lons and lats into a shapely LineString\n    track = sgeom.LineString(zip(lons, lats))\n\n    # buffer the linestring by two degrees (note: this is a non-physical\n    # distance)\n    track_buffer = track.buffer(2)\n\n    for state in shpreader.Reader(states_shp).geometries():\n        # pick a default color for the land with a black outline,\n        # this will change if the storm intersects with our track\n        facecolor = [0.9375, 0.9375, 0.859375]\n        edgecolor = 'black'\n\n        if state.intersects(track):\n            facecolor = 'red'\n        elif state.intersects(track_buffer):\n            facecolor = '#FF7E00'\n\n        ax.add_geometries([state], ccrs.PlateCarree(),\n                          facecolor=facecolor, edgecolor=edgecolor)\n\n    ax.add_geometries([track_buffer], ccrs.PlateCarree(),\n                      facecolor='#C8A2C8', alpha=0.5)\n    ax.add_geometries([track], ccrs.PlateCarree(),\n                      facecolor='none', edgecolor='k')\n\n    # make two proxy artists to add to a legend\n    direct_hit = mpatches.Rectangle((0, 0), 1, 1, facecolor=\"red\")\n    within_2_deg = mpatches.Rectangle((0, 0), 1, 1, facecolor=\"#FF7E00\")\n    labels = ['State directly intersects\\nwith track',\n              'State is within \\n2 degrees of track']\n    ax.legend([direct_hit, within_2_deg], labels,\n              loc='lower left', bbox_to_anchor=(0.025, -0.1), fancybox=True)\n\n    plt.show()\n\n\nif __name__ == '__main__':\n    main()"
      ]
    }
  ],
  "nbformat_minor": 0,
  "nbformat": 4,
  "metadata": {
    "kernelspec": {
      "language": "python",
      "display_name": "Python 3",
      "name": "python3"
    },
    "language_info": {
      "pygments_lexer": "ipython3",
      "version": "3.5.3",
      "name": "python",
      "nbconvert_exporter": "python",
      "mimetype": "text/x-python",
      "file_extension": ".py",
      "codemirror_mode": {
        "version": 3,
        "name": "ipython"
      }
    }
  }
}