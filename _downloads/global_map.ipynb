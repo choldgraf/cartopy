{
  "cells": [
    {
      "execution_count": null,
      "metadata": {
        "collapsed": false
      },
      "outputs": [],
      "cell_type": "code",
      "source": [
        "%matplotlib inline"
      ]
    },
    {
      "metadata": {},
      "source": [
        "\nGlobal Map\n----------\n\n\n"
      ],
      "cell_type": "markdown"
    },
    {
      "execution_count": null,
      "metadata": {
        "collapsed": false
      },
      "outputs": [],
      "cell_type": "code",
      "source": [
        "import matplotlib.pyplot as plt\n\nimport cartopy.crs as ccrs\n\n\ndef main():\n    fig = plt.figure(figsize=(10, 5))\n    ax = fig.add_subplot(1, 1, 1, projection=ccrs.Robinson())\n\n    # make the map global rather than have it zoom in to\n    # the extents of any plotted data\n    ax.set_global()\n\n    ax.stock_img()\n    ax.coastlines()\n\n    ax.plot(-0.08, 51.53, 'o', transform=ccrs.PlateCarree())\n    ax.plot([-0.08, 132], [51.53, 43.17], transform=ccrs.PlateCarree())\n    ax.plot([-0.08, 132], [51.53, 43.17], transform=ccrs.Geodetic())\n\n    plt.show()\n\n\nif __name__ == '__main__':\n    main()"
      ]
    }
  ],
  "nbformat_minor": 0,
  "nbformat": 4,
  "metadata": {
    "kernelspec": {
      "language": "python",
      "display_name": "Python 3",
      "name": "python3"
    },
    "language_info": {
      "pygments_lexer": "ipython3",
      "version": "3.5.3",
      "name": "python",
      "nbconvert_exporter": "python",
      "mimetype": "text/x-python",
      "file_extension": ".py",
      "codemirror_mode": {
        "version": 3,
        "name": "ipython"
      }
    }
  }
}