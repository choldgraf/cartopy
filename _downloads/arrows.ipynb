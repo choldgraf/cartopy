{
  "cells": [
    {
      "source": [
        "%matplotlib inline"
      ],
      "cell_type": "code",
      "outputs": [],
      "metadata": {
        "collapsed": false
      },
      "execution_count": null
    },
    {
      "source": [
        "\nArrows\n------\n\nPlotting arrows.\n\n\n"
      ],
      "cell_type": "markdown",
      "metadata": {}
    },
    {
      "source": [
        "import matplotlib.pyplot as plt\nimport numpy as np\n\nimport cartopy\nimport cartopy.crs as ccrs\n\n\ndef sample_data(shape=(20, 30)):\n    \"\"\"\n    Returns ``(x, y, u, v, crs)`` of some vector data\n    computed mathematically. The returned crs will be a rotated\n    pole CRS, meaning that the vectors will be unevenly spaced in\n    regular PlateCarree space.\n\n    \"\"\"\n    crs = ccrs.RotatedPole(pole_longitude=177.5, pole_latitude=37.5)\n\n    x = np.linspace(311.9, 391.1, shape[1])\n    y = np.linspace(-23.6, 24.8, shape[0])\n\n    x2d, y2d = np.meshgrid(x, y)\n    u = 10 * (2 * np.cos(2 * np.deg2rad(x2d) + 3 * np.deg2rad(y2d + 30)) ** 2)\n    v = 20 * np.cos(6 * np.deg2rad(x2d))\n\n    return x, y, u, v, crs\n\n\ndef main():\n    fig = plt.figure()\n    ax = fig.add_subplot(1, 1, 1, projection=ccrs.Orthographic(-10, 45))\n\n    ax.add_feature(cartopy.feature.OCEAN, zorder=0)\n    ax.add_feature(cartopy.feature.LAND, zorder=0, edgecolor='black')\n\n    ax.set_global()\n    ax.gridlines()\n\n    x, y, u, v, vector_crs = sample_data()\n    ax.quiver(x, y, u, v, transform=vector_crs)\n\n    plt.show()\n\n\nif __name__ == '__main__':\n    main()"
      ],
      "cell_type": "code",
      "outputs": [],
      "metadata": {
        "collapsed": false
      },
      "execution_count": null
    }
  ],
  "nbformat": 4,
  "metadata": {
    "kernelspec": {
      "name": "python3",
      "language": "python",
      "display_name": "Python 3"
    },
    "language_info": {
      "codemirror_mode": {
        "name": "ipython",
        "version": 3
      },
      "mimetype": "text/x-python",
      "nbconvert_exporter": "python",
      "name": "python",
      "file_extension": ".py",
      "pygments_lexer": "ipython3",
      "version": "3.5.3"
    }
  },
  "nbformat_minor": 0
}