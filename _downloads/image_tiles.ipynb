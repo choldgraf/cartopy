{
  "nbformat": 4,
  "nbformat_minor": 0,
  "cells": [
    {
      "cell_type": "code",
      "outputs": [],
      "execution_count": null,
      "metadata": {
        "collapsed": false
      },
      "source": [
        "%matplotlib inline"
      ]
    },
    {
      "cell_type": "markdown",
      "source": [
        "\nWeb tile imagery\n----------------\n\nThis example demonstrates how imagery from a tile\nproviding web service can be accessed.\n\n\n"
      ],
      "metadata": {}
    },
    {
      "cell_type": "code",
      "outputs": [],
      "execution_count": null,
      "metadata": {
        "collapsed": false
      },
      "source": [
        "import matplotlib.pyplot as plt\n\nfrom cartopy.io.img_tiles import StamenTerrain\n\n\ndef main():\n    tiler = StamenTerrain()\n    mercator = tiler.crs\n\n    fig = plt.figure()\n    ax = fig.add_subplot(1, 1, 1, projection=mercator)\n    ax.set_extent([-90, -73, 22, 34])\n\n    ax.add_image(tiler, 6)\n\n    ax.coastlines('10m')\n    plt.show()\n\n\nif __name__ == '__main__':\n    main()"
      ]
    }
  ],
  "metadata": {
    "kernelspec": {
      "language": "python",
      "display_name": "Python 3",
      "name": "python3"
    },
    "language_info": {
      "nbconvert_exporter": "python",
      "version": "3.5.3",
      "file_extension": ".py",
      "pygments_lexer": "ipython3",
      "name": "python",
      "codemirror_mode": {
        "version": 3,
        "name": "ipython"
      },
      "mimetype": "text/x-python"
    }
  }
}