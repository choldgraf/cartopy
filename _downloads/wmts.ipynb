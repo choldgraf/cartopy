{
  "cells": [
    {
      "metadata": {
        "collapsed": false
      },
      "cell_type": "code",
      "execution_count": null,
      "source": [
        "%matplotlib inline"
      ],
      "outputs": []
    },
    {
      "metadata": {},
      "cell_type": "markdown",
      "source": [
        "\nInteractive WMTS (Web Map Tile Service)\n---------------------------------------\n\nThis example demonstrates the interactive pan and zoom capability\nsupported by an OGC web services Web Map Tile Service (WMTS) aware axes.\n\nThe example WMTS layer is a single composite of data sampled over nine days\nin April 2012 and thirteen days in October 2012 showing the Earth at night.\nIt does not vary over time.\n\nThe imagery was collected by the Suomi National Polar-orbiting Partnership\n(Suomi NPP) weather satellite operated by the United States National Oceanic\nand Atmospheric Administration (NOAA).\n\n\nDownloading and plotting tiles\n==============================\n\n"
      ]
    },
    {
      "metadata": {
        "collapsed": false
      },
      "cell_type": "code",
      "execution_count": null,
      "source": [
        "import cartopy.crs as ccrs\nimport matplotlib.pyplot as plt\n\n\ndef main():\n    url = 'https://map1c.vis.earthdata.nasa.gov/wmts-geo/wmts.cgi'\n    layer = 'VIIRS_CityLights_2012'\n\n    fig = plt.figure()\n    ax = fig.add_subplot(1, 1, 1, projection=ccrs.PlateCarree())\n    ax.add_wmts(url, layer)\n    ax.set_extent((-15, 25, 35, 60))\n\n    ax.set_title('Suomi NPP Earth at night April/October 2012')\n    plt.show()\n\n\nif __name__ == '__main__':\n    main()"
      ],
      "outputs": []
    }
  ],
  "metadata": {
    "kernelspec": {
      "display_name": "Python 3",
      "name": "python3",
      "language": "python"
    },
    "language_info": {
      "nbconvert_exporter": "python",
      "file_extension": ".py",
      "pygments_lexer": "ipython3",
      "codemirror_mode": {
        "version": 3,
        "name": "ipython"
      },
      "mimetype": "text/x-python",
      "version": "3.5.3",
      "name": "python"
    }
  },
  "nbformat_minor": 0,
  "nbformat": 4
}