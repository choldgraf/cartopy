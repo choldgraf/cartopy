{
  "cells": [
    {
      "outputs": [],
      "source": [
        "%matplotlib inline"
      ],
      "execution_count": null,
      "metadata": {
        "collapsed": false
      },
      "cell_type": "code"
    },
    {
      "source": [
        "\nInteractive WMTS (Web Map Tile Service)\n---------------------------------------\n\nThis example demonstrates the interactive pan and zoom capability\nsupported by an OGC web services Web Map Tile Service (WMTS) aware axes.\n\nThe example WMTS layer is a single composite of data sampled over nine days\nin April 2012 and thirteen days in October 2012 showing the Earth at night.\nIt does not vary over time.\n\nThe imagery was collected by the Suomi National Polar-orbiting Partnership\n(Suomi NPP) weather satellite operated by the United States National Oceanic\nand Atmospheric Administration (NOAA).\n\n\n"
      ],
      "metadata": {},
      "cell_type": "markdown"
    },
    {
      "outputs": [],
      "source": [
        "import cartopy.crs as ccrs\nimport matplotlib.pyplot as plt\n\n\ndef main():\n    url = 'https://map1c.vis.earthdata.nasa.gov/wmts-geo/wmts.cgi'\n    layer = 'VIIRS_CityLights_2012'\n\n    fig = plt.figure()\n    ax = fig.add_subplot(1, 1, 1, projection=ccrs.PlateCarree())\n    ax.add_wmts(url, layer)\n    ax.set_extent((-15, 25, 35, 60))\n\n    ax.set_title('Suomi NPP Earth at night April/October 2012')\n    plt.show()\n\n\nif __name__ == '__main__':\n    main()"
      ],
      "execution_count": null,
      "metadata": {
        "collapsed": false
      },
      "cell_type": "code"
    }
  ],
  "nbformat_minor": 0,
  "nbformat": 4,
  "metadata": {
    "language_info": {
      "pygments_lexer": "ipython3",
      "nbconvert_exporter": "python",
      "name": "python",
      "codemirror_mode": {
        "name": "ipython",
        "version": 3
      },
      "mimetype": "text/x-python",
      "file_extension": ".py",
      "version": "3.5.3"
    },
    "kernelspec": {
      "name": "python3",
      "language": "python",
      "display_name": "Python 3"
    }
  }
}