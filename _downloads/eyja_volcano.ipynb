{
  "nbformat": 4,
  "nbformat_minor": 0,
  "cells": [
    {
      "cell_type": "code",
      "outputs": [],
      "execution_count": null,
      "metadata": {
        "collapsed": false
      },
      "source": [
        "%matplotlib inline"
      ]
    },
    {
      "cell_type": "markdown",
      "source": [
        "\nMap tile acquisition\n--------------------\n\nDemonstrates cartopy's ability to draw map tiles which are downloaded on\ndemand from the Stamen tile server. Internally these tiles are then combined\ninto a single image and displayed in the cartopy GeoAxes.\n\n\nGrabbing the map tiles\n======================\n\n"
      ],
      "metadata": {}
    },
    {
      "cell_type": "code",
      "outputs": [],
      "execution_count": null,
      "metadata": {
        "collapsed": false
      },
      "source": [
        "import matplotlib.pyplot as plt\nfrom matplotlib.transforms import offset_copy\n\nimport cartopy.crs as ccrs\nimport cartopy.io.img_tiles as cimgt\n\n\ndef main():\n    # Create a Stamen Terrain instance.\n    stamen_terrain = cimgt.StamenTerrain()\n\n    fig = plt.figure()\n\n    # Create a GeoAxes in the tile's projection.\n    ax = fig.add_subplot(1, 1, 1, projection=stamen_terrain.crs)\n\n    # Limit the extent of the map to a small longitude/latitude range.\n    ax.set_extent([-22, -15, 63, 65])\n\n    # Add the Stamen data at zoom level 8.\n    ax.add_image(stamen_terrain, 8)\n\n    # Add a marker for the Eyjafjallaj\u00f6kull volcano.\n    ax.plot(-19.613333, 63.62, marker='o', color='red', markersize=12,\n            alpha=0.7, transform=ccrs.Geodetic())\n\n    # Use the cartopy interface to create a matplotlib transform object\n    # for the Geodetic coordinate system. We will use this along with\n    # matplotlib's offset_copy function to define a coordinate system which\n    # translates the text by 25 pixels to the left.\n    geodetic_transform = ccrs.Geodetic()._as_mpl_transform(ax)\n    text_transform = offset_copy(geodetic_transform, units='dots', x=-25)\n\n    # Add text 25 pixels to the left of the volcano.\n    ax.text(-19.613333, 63.62, u'Eyjafjallaj\u00f6kull',\n            verticalalignment='center', horizontalalignment='right',\n            transform=text_transform,\n            bbox=dict(facecolor='sandybrown', alpha=0.5, boxstyle='round'))\n    plt.show()\n\n\nif __name__ == '__main__':\n    main()"
      ]
    }
  ],
  "metadata": {
    "kernelspec": {
      "language": "python",
      "display_name": "Python 3",
      "name": "python3"
    },
    "language_info": {
      "nbconvert_exporter": "python",
      "version": "3.5.3",
      "file_extension": ".py",
      "pygments_lexer": "ipython3",
      "name": "python",
      "codemirror_mode": {
        "version": 3,
        "name": "ipython"
      },
      "mimetype": "text/x-python"
    }
  }
}