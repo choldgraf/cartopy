{
  "cells": [
    {
      "execution_count": null,
      "metadata": {
        "collapsed": false
      },
      "outputs": [],
      "cell_type": "code",
      "source": [
        "%matplotlib inline"
      ]
    },
    {
      "metadata": {},
      "source": [
        "\nPlotting the Aurora Forecast from NOAA on Orthographic Polar Projection\n-----------------------------------------------------------------------\n\nThe National Oceanic and Atmospheric Administration (NOAA) monitors the\nsolar wind conditions using the ACE spacecraft orbiting close to the L1\nLagrangian point of the Sun-Earth system. This data is fed into the\nOVATION-Prime model to forecast the probability of visible aurora at\nvarious locations on Earth. Every five minutes a new forecast is\npublished for the coming 30 minutes. The data is provided as a\n1024 by 512 grid of probabilities in percent of visible aurora. The\ndata spaced equally in degrees from -180 to 180 and -90 to 90.\n\n\n"
      ],
      "cell_type": "markdown"
    },
    {
      "execution_count": null,
      "metadata": {
        "collapsed": false
      },
      "outputs": [],
      "cell_type": "code",
      "source": [
        "try:\n    from urllib2 import urlopen\nexcept ImportError:\n    from urllib.request import urlopen\n\nfrom io import StringIO\n\nimport numpy as np\nfrom datetime import datetime\nimport cartopy.crs as ccrs\nimport matplotlib.pyplot as plt\nfrom matplotlib.colors import LinearSegmentedColormap\n\n\ndef aurora_forecast():\n    \"\"\"\n    Gets the latest Aurora Forecast from http://swpc.noaa.gov.\n\n    Returns\n    -------\n    img : numpy array\n        The pixels of the image in a numpy array.\n    img_proj : cartopy CRS\n        The rectangular coordinate system of the image.\n    img_extent : tuple of floats\n        The extent of the image ``(x0, y0, x1, y1)`` referenced in\n        the ``img_proj`` coordinate system.\n    origin : str\n        The origin of the image to be passed through to matplotlib's imshow.\n    dt : datetime\n        Time of forecast validity.\n\n    \"\"\"\n\n    # GitHub gist to download the example data from\n    url = ('https://gist.githubusercontent.com/belteshassar/'\n           'c7ea9e02a3e3934a9ddc/raw/aurora-nowcast-map.txt')\n    # To plot the current forecast instead, uncomment the following line\n    # url = 'http://services.swpc.noaa.gov/text/aurora-nowcast-map.txt'\n\n    response_text = StringIO(urlopen(url).read().decode('utf-8'))\n    img = np.loadtxt(response_text)\n    # Read forecast date and time\n    response_text.seek(0)\n    for line in response_text:\n        if line.startswith('Product Valid At:', 2):\n            dt = datetime.strptime(line[-17:-1], '%Y-%m-%d %H:%M')\n\n    img_proj = ccrs.PlateCarree()\n    img_extent = (-180, 180, -90, 90)\n    return img, img_proj, img_extent, 'lower', dt\n\n\ndef aurora_cmap():\n    \"\"\"Return a colormap with aurora like colors\"\"\"\n    stops = {'red': [(0.00, 0.1725, 0.1725),\n                     (0.50, 0.1725, 0.1725),\n                     (1.00, 0.8353, 0.8353)],\n\n             'green': [(0.00, 0.9294, 0.9294),\n                       (0.50, 0.9294, 0.9294),\n                       (1.00, 0.8235, 0.8235)],\n\n             'blue': [(0.00, 0.3843, 0.3843),\n                      (0.50, 0.3843, 0.3843),\n                      (1.00, 0.6549, 0.6549)],\n\n             'alpha': [(0.00, 0.0, 0.0),\n                       (0.50, 1.0, 1.0),\n                       (1.00, 1.0, 1.0)]}\n\n    return LinearSegmentedColormap('aurora', stops)\n\n\ndef sun_pos(dt=None):\n    \"\"\"This function computes a rough estimate of the coordinates for\n    the point on the surface of the Earth where the Sun is directly\n    overhead at the time dt. Precision is down to a few degrees. This\n    means that the equinoxes (when the sign of the latitude changes)\n    will be off by a few days.\n\n    The function is intended only for visualization. For more precise\n    calculations consider for example the PyEphem package.\n\n    Parameters\n    ----------\n        dt: datetime\n            Defaults to datetime.utcnow()\n\n    Returns\n    -------\n        lat, lng: tuple of floats\n            Approximate coordinates of the point where the sun is\n            in zenith at the time dt.\n    \"\"\"\n    if dt is None:\n        dt = datetime.utcnow()\n\n    axial_tilt = 23.4\n    ref_solstice = datetime(2016, 6, 21, 22, 22)\n    days_per_year = 365.2425\n    seconds_per_day = 24*60*60.0\n\n    days_since_ref = (dt - ref_solstice).total_seconds()/seconds_per_day\n    lat = axial_tilt*np.cos(2*np.pi*days_since_ref/days_per_year)\n    sec_since_midnight = (dt - datetime(dt.year, dt.month, dt.day)).seconds\n    lng = -(sec_since_midnight/seconds_per_day - 0.5)*360\n    return lat, lng\n\n\ndef fill_dark_side(ax, time=None, *args, **kwargs):\n    \"\"\"\n    Plot a fill on the dark side of the planet (without refraction).\n\n    Parameters\n    ----------\n        ax : matplotlib axes\n            The axes to plot on.\n        time : datetime\n            The time to calculate terminator for. Defaults to datetime.utcnow()\n        **kwargs :\n            Passed on to Matplotlib's ax.fill()\n\n    \"\"\"\n    lat, lng = sun_pos(time)\n    pole_lng = lng\n    if lat > 0:\n        pole_lat = -90 + lat\n        central_rot_lng = 180\n    else:\n        pole_lat = 90 + lat\n        central_rot_lng = 0\n\n    rotated_pole = ccrs.RotatedPole(pole_latitude=pole_lat,\n                                    pole_longitude=pole_lng,\n                                    central_rotated_longitude=central_rot_lng)\n\n    x = np.empty(360)\n    y = np.empty(360)\n    x[:180] = -90\n    y[:180] = np.arange(-90, 90.)\n    x[180:] = 90\n    y[180:] = np.arange(90, -90., -1)\n\n    ax.fill(x, y, transform=rotated_pole, **kwargs)\n\n\ndef main():\n    fig = plt.figure(figsize=[10, 5])\n\n    # We choose to plot in an Orthographic projection as it looks natural\n    # and the distortion is relatively small around the poles where\n    # the aurora is most likely.\n\n    # ax1 for Northern Hemisphere\n    ax1 = fig.add_subplot(1, 2, 1, projection=ccrs.Orthographic(0, 90))\n\n    # ax2 for Southern Hemisphere\n    ax2 = fig.add_subplot(1, 2, 2, projection=ccrs.Orthographic(180, -90))\n\n    img, crs, extent, origin, dt = aurora_forecast()\n\n    for ax in [ax1, ax2]:\n        ax.coastlines(zorder=3)\n        ax.stock_img()\n        ax.gridlines()\n        fill_dark_side(ax, time=dt, color='black', alpha=0.75)\n        ax.imshow(img, vmin=0, vmax=100, transform=crs,\n                  extent=extent, origin=origin, zorder=2,\n                  cmap=aurora_cmap())\n\n    plt.show()\n\n\nif __name__ == '__main__':\n    main()"
      ]
    }
  ],
  "nbformat_minor": 0,
  "nbformat": 4,
  "metadata": {
    "kernelspec": {
      "language": "python",
      "display_name": "Python 3",
      "name": "python3"
    },
    "language_info": {
      "pygments_lexer": "ipython3",
      "version": "3.5.3",
      "name": "python",
      "nbconvert_exporter": "python",
      "mimetype": "text/x-python",
      "file_extension": ".py",
      "codemirror_mode": {
        "version": 3,
        "name": "ipython"
      }
    }
  }
}