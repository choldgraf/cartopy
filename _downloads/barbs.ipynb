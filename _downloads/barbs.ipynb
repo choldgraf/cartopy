{
  "nbformat": 4,
  "nbformat_minor": 0,
  "cells": [
    {
      "cell_type": "code",
      "outputs": [],
      "execution_count": null,
      "metadata": {
        "collapsed": false
      },
      "source": [
        "%matplotlib inline"
      ]
    },
    {
      "cell_type": "markdown",
      "source": [
        "\nBarbs\n-----\n\nPlotting barbs.\n\n\n\n"
      ],
      "metadata": {}
    },
    {
      "cell_type": "code",
      "outputs": [],
      "execution_count": null,
      "metadata": {
        "collapsed": false
      },
      "source": [
        "import matplotlib.pyplot as plt\n\nimport cartopy.crs as ccrs\nfrom cartopy.examples.arrows import sample_data\n\n\ndef main():\n    fig = plt.figure(figsize=(10, 5))\n    ax = fig.add_subplot(1, 1, 1, projection=ccrs.PlateCarree())\n    ax.set_extent([-90, 75, 10, 60])\n    ax.stock_img()\n    ax.coastlines()\n\n    x, y, u, v, vector_crs = sample_data(shape=(10, 14))\n    ax.barbs(x, y, u, v, length=5,\n             sizes=dict(emptybarb=0.25, spacing=0.2, height=0.5),\n             linewidth=0.95, transform=vector_crs)\n\n    plt.show()\n\n\nif __name__ == '__main__':\n    main()"
      ]
    }
  ],
  "metadata": {
    "kernelspec": {
      "language": "python",
      "display_name": "Python 3",
      "name": "python3"
    },
    "language_info": {
      "nbconvert_exporter": "python",
      "version": "3.5.3",
      "file_extension": ".py",
      "pygments_lexer": "ipython3",
      "name": "python",
      "codemirror_mode": {
        "version": 3,
        "name": "ipython"
      },
      "mimetype": "text/x-python"
    }
  }
}