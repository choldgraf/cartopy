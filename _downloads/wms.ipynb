{
  "cells": [
    {
      "execution_count": null,
      "metadata": {
        "collapsed": false
      },
      "outputs": [],
      "cell_type": "code",
      "source": [
        "%matplotlib inline"
      ]
    },
    {
      "metadata": {},
      "source": [
        "\nInteractive WMS (Web Map Service)\n---------------------------------\n\nThis example demonstrates the interactive pan and zoom capability\nsupported by an OGC web services Web Map Service (WMS) aware axes.\n\n\n"
      ],
      "cell_type": "markdown"
    },
    {
      "execution_count": null,
      "metadata": {
        "collapsed": false
      },
      "outputs": [],
      "cell_type": "code",
      "source": [
        "import cartopy.crs as ccrs\nimport matplotlib.pyplot as plt\n\n\ndef main():\n    fig = plt.figure(figsize=(10, 5))\n    ax = fig.add_subplot(1, 1, 1, projection=ccrs.InterruptedGoodeHomolosine())\n    ax.coastlines()\n\n    ax.add_wms(wms='http://vmap0.tiles.osgeo.org/wms/vmap0',\n               layers=['basic'])\n\n    plt.show()\n\n\nif __name__ == '__main__':\n    main()"
      ]
    }
  ],
  "nbformat_minor": 0,
  "nbformat": 4,
  "metadata": {
    "kernelspec": {
      "language": "python",
      "display_name": "Python 3",
      "name": "python3"
    },
    "language_info": {
      "pygments_lexer": "ipython3",
      "version": "3.5.3",
      "name": "python",
      "nbconvert_exporter": "python",
      "mimetype": "text/x-python",
      "file_extension": ".py",
      "codemirror_mode": {
        "version": 3,
        "name": "ipython"
      }
    }
  }
}