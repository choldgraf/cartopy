{
  "nbformat": 4,
  "nbformat_minor": 0,
  "cells": [
    {
      "cell_type": "code",
      "outputs": [],
      "execution_count": null,
      "metadata": {
        "collapsed": false
      },
      "source": [
        "%matplotlib inline"
      ]
    },
    {
      "cell_type": "markdown",
      "source": [
        "\nModifying the boundary/neatline of a map in cartopy\n---------------------------------------------------\n\nThis example demonstrates how to modify the boundary/neatline\nof an axes. We construct a star with coordinates in a Plate Carree\ncoordinate system, and use the star as the outline of the map.\n\nNotice how changing the projection of the map represents a *projected*\nstar shaped boundary.\n\n\n"
      ],
      "metadata": {}
    },
    {
      "cell_type": "code",
      "outputs": [],
      "execution_count": null,
      "metadata": {
        "collapsed": false
      },
      "source": [
        "import matplotlib.path as mpath\nimport matplotlib.pyplot as plt\n\nimport cartopy.crs as ccrs\n\n\ndef main():\n    fig = plt.figure()\n    ax = fig.add_axes([0, 0, 1, 1], projection=ccrs.PlateCarree())\n    ax.coastlines()\n\n    # Construct a star in longitudes and latitudes.\n    star_path = mpath.Path.unit_regular_star(5, 0.5)\n    star_path = mpath.Path(star_path.vertices.copy() * 80,\n                           star_path.codes.copy())\n\n    # Use the star as the boundary.\n    ax.set_boundary(star_path, transform=ccrs.PlateCarree())\n\n    plt.show()\n\n\nif __name__ == '__main__':\n    main()"
      ]
    }
  ],
  "metadata": {
    "kernelspec": {
      "language": "python",
      "display_name": "Python 3",
      "name": "python3"
    },
    "language_info": {
      "nbconvert_exporter": "python",
      "version": "3.5.3",
      "file_extension": ".py",
      "pygments_lexer": "ipython3",
      "name": "python",
      "codemirror_mode": {
        "version": 3,
        "name": "ipython"
      },
      "mimetype": "text/x-python"
    }
  }
}