{
  "nbformat": 4,
  "cells": [
    {
      "cell_type": "code",
      "execution_count": null,
      "source": [
        "%matplotlib inline"
      ],
      "outputs": [],
      "metadata": {
        "collapsed": false
      }
    },
    {
      "cell_type": "markdown",
      "source": [
        "\nStreamplot\n----------\n\nGenerating a vector-based streamplot.\n\n\n"
      ],
      "metadata": {}
    },
    {
      "cell_type": "code",
      "execution_count": null,
      "source": [
        "import matplotlib.pyplot as plt\n\nimport cartopy.crs as ccrs\nfrom cartopy.examples.arrows import sample_data\n\n\ndef main():\n    fig = plt.figure(figsize=(10, 5))\n    ax = fig.add_subplot(1, 1, 1, projection=ccrs.PlateCarree())\n    ax.set_extent([-90, 75, 10, 60])\n    ax.coastlines()\n\n    x, y, u, v, vector_crs = sample_data(shape=(80, 100))\n    magnitude = (u ** 2 + v ** 2) ** 0.5\n    ax.streamplot(x, y, u, v, transform=vector_crs,\n                  linewidth=2, density=2, color=magnitude)\n    plt.show()\n\n\nif __name__ == '__main__':\n    main()"
      ],
      "outputs": [],
      "metadata": {
        "collapsed": false
      }
    }
  ],
  "nbformat_minor": 0,
  "metadata": {
    "kernelspec": {
      "display_name": "Python 3",
      "name": "python3",
      "language": "python"
    },
    "language_info": {
      "file_extension": ".py",
      "name": "python",
      "version": "3.5.3",
      "nbconvert_exporter": "python",
      "pygments_lexer": "ipython3",
      "codemirror_mode": {
        "name": "ipython",
        "version": 3
      },
      "mimetype": "text/x-python"
    }
  }
}