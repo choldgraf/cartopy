{
  "cells": [
    {
      "source": [
        "%matplotlib inline"
      ],
      "cell_type": "code",
      "outputs": [],
      "metadata": {
        "collapsed": false
      },
      "execution_count": null
    },
    {
      "source": [
        "\nStreamplot\n----------\n\nGenerating a vector-based streamplot.\n\n\n"
      ],
      "cell_type": "markdown",
      "metadata": {}
    },
    {
      "source": [
        "import matplotlib.pyplot as plt\n\nimport cartopy.crs as ccrs\nfrom cartopy.examples.arrows import sample_data\n\n\ndef main():\n    fig = plt.figure(figsize=(10, 5))\n    ax = fig.add_subplot(1, 1, 1, projection=ccrs.PlateCarree())\n    ax.set_extent([-90, 75, 10, 60])\n    ax.coastlines()\n\n    x, y, u, v, vector_crs = sample_data(shape=(80, 100))\n    magnitude = (u ** 2 + v ** 2) ** 0.5\n    ax.streamplot(x, y, u, v, transform=vector_crs,\n                  linewidth=2, density=2, color=magnitude)\n    plt.show()\n\n\nif __name__ == '__main__':\n    main()"
      ],
      "cell_type": "code",
      "outputs": [],
      "metadata": {
        "collapsed": false
      },
      "execution_count": null
    }
  ],
  "nbformat": 4,
  "metadata": {
    "kernelspec": {
      "name": "python3",
      "language": "python",
      "display_name": "Python 3"
    },
    "language_info": {
      "codemirror_mode": {
        "name": "ipython",
        "version": 3
      },
      "mimetype": "text/x-python",
      "nbconvert_exporter": "python",
      "name": "python",
      "file_extension": ".py",
      "pygments_lexer": "ipython3",
      "version": "3.5.3"
    }
  },
  "nbformat_minor": 0
}