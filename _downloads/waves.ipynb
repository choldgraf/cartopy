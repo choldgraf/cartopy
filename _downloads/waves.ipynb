{
  "cells": [
    {
      "execution_count": null,
      "metadata": {
        "collapsed": false
      },
      "outputs": [],
      "cell_type": "code",
      "source": [
        "%matplotlib inline"
      ]
    },
    {
      "metadata": {},
      "source": [
        "\nWaves\n-----\n\n\n"
      ],
      "cell_type": "markdown"
    },
    {
      "execution_count": null,
      "metadata": {
        "collapsed": false
      },
      "outputs": [],
      "cell_type": "code",
      "source": [
        "import matplotlib.pyplot as plt\nimport numpy as np\n\nimport cartopy.crs as ccrs\n\n\ndef sample_data(shape=(73, 145)):\n    \"\"\"Returns ``lons``, ``lats`` and ``data`` of some fake data.\"\"\"\n    nlats, nlons = shape\n    lats = np.linspace(-np.pi / 2, np.pi / 2, nlats)\n    lons = np.linspace(0, 2 * np.pi, nlons)\n    lons, lats = np.meshgrid(lons, lats)\n    wave = 0.75 * (np.sin(2 * lats) ** 8) * np.cos(4 * lons)\n    mean = 0.5 * np.cos(2 * lats) * ((np.sin(2 * lats)) ** 2 + 2)\n\n    lats = np.rad2deg(lats)\n    lons = np.rad2deg(lons)\n    data = wave + mean\n\n    return lons, lats, data\n\n\ndef main():\n    fig = plt.figure(figsize=(10, 5))\n    ax = fig.add_subplot(1, 1, 1, projection=ccrs.Mollweide())\n\n    lons, lats, data = sample_data()\n\n    ax.contourf(lons, lats, data,\n                transform=ccrs.PlateCarree(),\n                cmap='nipy_spectral')\n    ax.coastlines()\n    ax.set_global()\n    plt.show()\n\n\nif __name__ == '__main__':\n    main()"
      ]
    }
  ],
  "nbformat_minor": 0,
  "nbformat": 4,
  "metadata": {
    "kernelspec": {
      "language": "python",
      "display_name": "Python 3",
      "name": "python3"
    },
    "language_info": {
      "pygments_lexer": "ipython3",
      "version": "3.5.3",
      "name": "python",
      "nbconvert_exporter": "python",
      "mimetype": "text/x-python",
      "file_extension": ".py",
      "codemirror_mode": {
        "version": 3,
        "name": "ipython"
      }
    }
  }
}